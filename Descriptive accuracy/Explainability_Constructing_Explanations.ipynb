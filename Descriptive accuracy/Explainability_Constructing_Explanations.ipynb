{
  "cells": [
    {
      "cell_type": "markdown",
      "metadata": {
        "id": "FshTWmBWiPxh"
      },
      "source": [
        "For implementation of this local and global explanations, following resource is referred:\n",
        "\n",
        "\n",
        "1.   https://shap-lrjball.readthedocs.io/en/latest/example_notebooks/general/Explainable%20AI%20with%20Shapley%20Values.html"
      ]
    },
    {
      "cell_type": "code",
      "execution_count": null,
      "metadata": {
        "id": "PRN0jD5tiO9M"
      },
      "outputs": [],
      "source": [
        "!pip install datasets"
      ]
    },
    {
      "cell_type": "code",
      "execution_count": null,
      "metadata": {
        "id": "PjJ2fjYFi5si"
      },
      "outputs": [],
      "source": [
        "import datasets\n",
        "from datasets import Dataset"
      ]
    },
    {
      "cell_type": "code",
      "execution_count": null,
      "metadata": {
        "id": "aBkY9Q8ei6T5"
      },
      "outputs": [],
      "source": [
        "import pandas as pd\n",
        "import numpy as np\n",
        "from sklearn.model_selection import KFold\n",
        "from transformers import AutoTokenizer, AutoModelForSequenceClassification, Trainer, TrainingArguments, DataCollatorWithPadding\n",
        "from sklearn.metrics import accuracy_score, f1_score, precision_score, recall_score, cohen_kappa_score\n",
        "import torch\n",
        "from torch.utils.data import DataLoader, Dataset"
      ]
    },
    {
      "cell_type": "code",
      "execution_count": null,
      "metadata": {
        "id": "xUo4OsuOi9jY"
      },
      "outputs": [],
      "source": [
        "# Loading the data from the skill file\n",
        "df1 = pd.read_excel(\"/content/Skill_with_question_id.xlsx\")\n",
        "df1.head(5)"
      ]
    },
    {
      "cell_type": "code",
      "execution_count": null,
      "metadata": {
        "id": "wZX-eC5TjmSu"
      },
      "outputs": [],
      "source": [
        "df1['Constructing_Explanations'].replace('-','2', inplace = True)\n",
        "df1 = df1[~df1['Constructing_Explanations'].isnull()]\n",
        "df1 = df1[df1['Constructing_Explanations'].str.isnumeric()]\n",
        "print(df1.head(5))\n",
        "\n",
        "def to_skill(label):\n",
        "    skill = int(label)\n",
        "    if skill == 1:\n",
        "        return 1\n",
        "    elif skill == 0:\n",
        "        return 0\n",
        "\n",
        "df1['Constructing_Explanations'] = df1.Constructing_Explanations.apply(to_skill)\n",
        "df1 = df1.dropna()"
      ]
    },
    {
      "cell_type": "code",
      "execution_count": null,
      "metadata": {
        "id": "1pCSOXTQjqqn"
      },
      "outputs": [],
      "source": [
        "df1 = df1.reindex(columns=['Answer','Constructing_Explanations','Solution','Planning_Investigations','Student','Analyzing_Data'])\n",
        "df1.rename(columns = {'Answer':'text','Constructing_Explanations':'label'}, inplace = True)"
      ]
    },
    {
      "cell_type": "code",
      "execution_count": null,
      "metadata": {
        "id": "orrZ0ksyjrRT"
      },
      "outputs": [],
      "source": [
        "df1.head(5)"
      ]
    },
    {
      "cell_type": "code",
      "execution_count": null,
      "metadata": {
        "id": "Fpw29dRPju4B"
      },
      "outputs": [],
      "source": [
        "df_train = df1.iloc[:2512] # splitting the dataframe rowwise with first 50% of the data\n",
        "df_train_pd_whole = df_train.iloc[:,:2]# splitting the training data columnwise and taking only text and label columns\n",
        "train_dataset = Dataset.from_dict(df_train_pd_whole) # converting the dataframe into datasets.arrow_dataset.Dataset\n",
        "\n",
        "df_val = df1.iloc[2512:3767] #spliting data row-wise 25% of the data for validation set\n",
        "df_val_pd_whole = df_val.iloc[:,:2]# spliting the valdation dataset columnwise only to take text and the label\n",
        "validation_dataset = Dataset.from_dict(df_val_pd_whole) # converting the dataframe into datasets.arrow_dataset.Dataset\n",
        "\n",
        "df_test = df1.iloc[3767:] #spliting data row-wise 25% of the data for test set\n",
        "df_test_pd_whole = df_test.iloc[:,:2]# spliting the test dataset columnwise only to take text and the label\n",
        "test_dataset = Dataset.from_dict(df_val_pd_whole) # converting the dataframe into datasets.arrow_dataset.Dataset\n",
        "\n",
        "#converting datasets.arrow_dataset.Dataset into datasets.dataset_dict.DatasetDict'\n",
        "final_dataset_dict = datasets.DatasetDict({\"train\":train_dataset,\"test\":test_dataset, \"validation\":validation_dataset})\n",
        "final_dataset_dict"
      ]
    },
    {
      "cell_type": "code",
      "execution_count": null,
      "metadata": {
        "id": "F7fouU1lj2TW"
      },
      "outputs": [],
      "source": [
        "train_final_dataset_dict = final_dataset_dict[\"train\"]"
      ]
    },
    {
      "cell_type": "code",
      "execution_count": null,
      "metadata": {
        "id": "hzi3n0vij3oY"
      },
      "outputs": [],
      "source": [
        "!pip install shap"
      ]
    },
    {
      "cell_type": "code",
      "execution_count": null,
      "metadata": {
        "id": "w6AkNtCOj5AV"
      },
      "outputs": [],
      "source": [
        "import datasets\n",
        "import numpy as np\n",
        "import scipy as sp\n",
        "import torch\n",
        "import transformers\n",
        "from datasets import Dataset\n",
        "import shap"
      ]
    },
    {
      "cell_type": "code",
      "execution_count": null,
      "metadata": {
        "id": "RsQMw40Tj6nQ"
      },
      "outputs": [],
      "source": [
        "model_CE = AutoModelForSequenceClassification.from_pretrained(\"deepset/gbert-large\", num_labels=2, ignore_mismatched_sizes=True).to(torch.device('cuda'))\n",
        "model_CE.load_state_dict(torch.load('/content/gdrive/MyDrive/Thesis/Model/FT_CE_EB_GBERTlarge.pth'))"
      ]
    },
    {
      "cell_type": "code",
      "execution_count": null,
      "metadata": {
        "id": "AFN32c7aj8gX"
      },
      "outputs": [],
      "source": [
        "model_CE"
      ]
    },
    {
      "cell_type": "code",
      "execution_count": null,
      "metadata": {
        "id": "7YL9vIf8kAne"
      },
      "outputs": [],
      "source": [
        "tokenizer = AutoTokenizer.from_pretrained('deepset/gbert-large', truncation=True, padding=True, max_length=512)"
      ]
    },
    {
      "cell_type": "code",
      "execution_count": null,
      "metadata": {
        "id": "eRzjgSEOkGIz"
      },
      "outputs": [],
      "source": [
        "#defining a prediction function\n",
        "def f(x):\n",
        "    encodings = [tokenizer.encode_plus(v, padding=\"max_length\", max_length=512, truncation=True, return_tensors=\"pt\") for v in x]\n",
        "    input_ids = torch.cat([e['input_ids'] for e in encodings], dim=0).cuda()\n",
        "    attention_mask = torch.cat([e['attention_mask'] for e in encodings], dim=0).cuda()\n",
        "\n",
        "    tv = torch.tensor(input_ids).cuda()\n",
        "    outputs = model_CE(tv, attention_mask=attention_mask)[0].detach().cpu().numpy()\n",
        "    scores = (np.exp(outputs).T / np.exp(outputs).sum(-1)).T\n",
        "    val = sp.special.logit(scores[:, 1])  # using one vs rest of the logits available\n",
        "    return val\n"
      ]
    },
    {
      "cell_type": "code",
      "execution_count": null,
      "metadata": {
        "id": "7D7VI3zbkYre"
      },
      "outputs": [],
      "source": [
        "# creating an explainer using a token masker\n",
        "explainer = shap.Explainer(f, tokenizer)"
      ]
    },
    {
      "cell_type": "code",
      "execution_count": null,
      "metadata": {
        "id": "UCsTrcmOk1fA"
      },
      "outputs": [],
      "source": [
        "train_final_dataset_dict[:50] #checking"
      ]
    },
    {
      "cell_type": "code",
      "execution_count": null,
      "metadata": {
        "id": "safJHcq1k77A"
      },
      "outputs": [],
      "source": [
        "#explaining the model's prediction on the Constructing Explanations skill of AFLEK data\n",
        "shap_values = explainer(train_final_dataset_dict[:50], fixed_context=1, batch_size=2)"
      ]
    },
    {
      "cell_type": "markdown",
      "metadata": {
        "id": "rkig59mUqdUD"
      },
      "source": [
        "global positive"
      ]
    },
    {
      "cell_type": "code",
      "execution_count": null,
      "metadata": {
        "id": "ZVx2ooKOlIoE"
      },
      "outputs": [],
      "source": [
        "import numpy as np\n",
        "import matplotlib.pyplot as plt\n",
        "\n",
        "s_value = shap_values.values\n",
        "d_value = shap_values.data\n",
        "\n",
        "# selecing the features from the shap_values\n",
        "feature_Names = [list(data) for data in d_value]\n",
        "\n",
        "# Flattening SHAP values and feature names\n",
        "flattened_s_value = []\n",
        "flattened_feature = []\n",
        "\n",
        "for shap_vals, feat_names in zip(s_value, feature_Names):\n",
        "    flattened_s_value.extend(shap_vals)\n",
        "    flattened_feature.extend(feat_names)\n",
        "\n",
        "# storing the highest shap value for each unique feature\n",
        "pos_feature_shap_dict = {}\n",
        "seen_features = set()\n",
        "\n",
        "for feature, sv in zip(flattened_feature, flattened_s_value):\n",
        "    if feature:  #chekcing for blank features\n",
        "        if feature in seen_features:\n",
        "            continue  # skipping the feaures if it is already there to have a unique feature set\n",
        "        seen_features.add(feature)\n",
        "        if sv > 0:\n",
        "            if feature in pos_feature_shap_dict:\n",
        "                pos_feature_shap_dict[feature] = max(pos_feature_shap_dict[feature], sv)\n",
        "            else:\n",
        "                pos_feature_shap_dict[feature] = sv\n",
        "\n",
        "# sorting features with max shap value in descening order\n",
        "sorted_pos_f = sorted(pos_feature_shap_dict.items(), key=lambda x: x[1], reverse=True)\n",
        "\n",
        "# function for plotting different number of features\n",
        "def plotting_top_pos_f(n):\n",
        "    top_n_pos_f = sorted_pos_f[:n]\n",
        "    top_n_pos_fnames = [feature for feature, value in top_n_pos_f]\n",
        "    top_n_pos_s_values = [value for feature, value in top_n_positive_features]\n",
        "\n",
        "    plt.figure(figsize=(12, 8))\n",
        "    plt.bar(top_n_pos_fnames, top_n_pos_s_values, color='#ff0052')\n",
        "    plt.xticks(rotation=45, ha='right')\n",
        "    plt.ylabel('Maximum SHAP Value (Positive Contributions)')\n",
        "    plt.xlabel('Features')\n",
        "    plt.title(f'Top {n} Unique Features Contributing to Positive Class')\n",
        "    plt.show()\n",
        "\n",
        "# Top 30\n",
        "plotting_top_pos_f(30)"
      ]
    },
    {
      "cell_type": "markdown",
      "metadata": {
        "id": "c65A_X-Wqfqt"
      },
      "source": [
        "global negative"
      ]
    },
    {
      "cell_type": "code",
      "execution_count": null,
      "metadata": {
        "id": "tdSdbWNOqg58"
      },
      "outputs": [],
      "source": [
        "import numpy as np\n",
        "import matplotlib.pyplot as plt\n",
        "\n",
        "\n",
        "s_value = shap_values.values\n",
        "d_value = shap_values.data\n",
        "\n",
        "# selecing the features from the shap_values\n",
        "feature_Names = [list(data) for data in d_value]\n",
        "\n",
        "# Flattening SHAP values and feature names\n",
        "flattened_s_value = []\n",
        "flattened_feature = []\n",
        "\n",
        "for shap_vals, feat_names in zip(s_value, feature_Names):\n",
        "    flattened_s_value.extend(shap_vals)\n",
        "    flattened_feature.extend(feat_names)\n",
        "\n",
        "# storing the negative shap value for each unique feature\n",
        "neg_feature_shap_dict = {}\n",
        "seen_features = set()\n",
        "\n",
        "for feature, sv in zip(flattened_feature, flattened_s_value):\n",
        "    if feature:  #chekcing for blank features\n",
        "        if feature in seen_features:\n",
        "            continue  # skipping the feaures if it is already there to have a unique feature set\n",
        "        seen_features.add(feature)\n",
        "        if sv < 0:\n",
        "            if feature in neg_feature_shap_dict:\n",
        "                neg_feature_shap_dict[feature] = min(neg_feature_shap_dict[feature], sv) # because we wanted to check the minimun negative features to compare with the positive ones\n",
        "            else:\n",
        "                neg_feature_shap_dict[feature] = sv\n",
        "\n",
        "# sorting features with min shap value\n",
        "sorted_neg_features = sorted(neg_feature_shap_dict.items(), key=lambda x: x[1])\n",
        "\n",
        "# selecting the bottom 30 unique features contributing to the negative class\n",
        "top_30 = sorted_neg_features[:30]\n",
        "top_30_neg_f_names = [feature for feature, value in top_30]\n",
        "top_30_neg_sv = [value for feature, value in top_30]\n",
        "\n",
        "# plotting the featurs\n",
        "color_blue = '#1e88e5'\n",
        "plt.figure(figsize=(12, 8))\n",
        "plt.bar(top_30_neg_f_names, top_30_neg_sv, color=color_blue)\n",
        "plt.xticks(rotation=45, ha='right')\n",
        "plt.ylabel('Minimum SHAP Value (Negative Contributions)')\n",
        "plt.xlabel('Features')\n",
        "plt.title('Top 30 Unique Features Contributing to Negative Class')\n",
        "plt.show()\n"
      ]
    },
    {
      "cell_type": "markdown",
      "metadata": {
        "id": "z73tNJ5wwYDJ"
      },
      "source": [
        "Local Explanations\n",
        "we can put the specific response index number for the following text plot, force plot and waterfall plot"
      ]
    },
    {
      "cell_type": "code",
      "execution_count": null,
      "metadata": {
        "id": "x9GTglJ9waGf"
      },
      "outputs": [],
      "source": [
        "shap.plots.text(shap_values[0])"
      ]
    },
    {
      "cell_type": "code",
      "execution_count": null,
      "metadata": {
        "id": "2XeI9OzewdRe"
      },
      "outputs": [],
      "source": [
        "shap.initjs()\n",
        "shap.force_plot(shap_values[0].base_values, shap_values[0].values, shap_values[0].data)"
      ]
    },
    {
      "cell_type": "code",
      "execution_count": null,
      "metadata": {
        "id": "yYTuk9bIwhax"
      },
      "outputs": [],
      "source": [
        "shap.plots.waterfall(shap_values[0])"
      ]
    },
    {
      "cell_type": "markdown",
      "metadata": {
        "id": "VhuN4_XplQ0J"
      },
      "source": [
        "#Occlusion study"
      ]
    },
    {
      "cell_type": "markdown",
      "metadata": {
        "id": "gYX-Qq8Oxqqd"
      },
      "source": [
        "Generation of the occluded dataset"
      ]
    },
    {
      "cell_type": "code",
      "execution_count": null,
      "metadata": {
        "id": "7w-HPw9Oxu1x"
      },
      "outputs": [],
      "source": [
        "import json\n",
        "import pandas as pd\n",
        "\n",
        "# the evidence span is supplied separately in a json file\n",
        "with open('/content/assembled.json', 'r') as file:\n",
        "    data = json.load(file)\n",
        "\n",
        "records = []\n",
        "#iterating for every record in the data\n",
        "for q_id, q_data in data.items():\n",
        "    for s_id, s_data in q_data['answers'].items():\n",
        "        # Checking if the label of the constructing explanation score is present(file structure)\n",
        "        if 'labels' in s_data and 'Constructing explanations' in s_data['labels']:\n",
        "            label = 1 if s_data['labels']['Constructing explanations'].get('score') == 'present' else 0\n",
        "            tokens_list = s_data.get('tokens', [])\n",
        "            e_list = s_data['labels']['Constructing explanations'].get('evidences', [])\n",
        "\n",
        "            combined_sentence = []\n",
        "            # processing for all the token for a sentence in response\n",
        "            for sentence_tokens, sentence_evidences in zip(tokens_list, e_list):\n",
        "                if label == 1:\n",
        "                    # Masking the tokens if the evidence score is 1\n",
        "                    masked_sentence = [\n",
        "                        '[MASK]' if ev == 1 else tok for tok, ev in zip(sentence_tokens, sentence_evidences)\n",
        "                    ]\n",
        "                else:\n",
        "                    # copying the unchanged response if there is no evidence span\n",
        "                    masked_sentence = sentence_tokens\n",
        "\n",
        "                combined_sentence.extend(masked_sentence)\n",
        "\n",
        "            final_sentence = \" \".join(combined_sentence)\n",
        "            records.append({\n",
        "                'StudentID': student_id,\n",
        "                'Masked Sentence': final_sentence,\n",
        "                'Label': label\n",
        "            })\n",
        "\n",
        "# saving the newly created data\n",
        "df_records = pd.DataFrame(records)\n",
        "excel_file_path = '18.06.13.44processed_data.xlsx'\n",
        "df_records.to_excel(excel_file_path, index=False)\n"
      ]
    },
    {
      "cell_type": "code",
      "execution_count": null,
      "metadata": {
        "id": "s6qBF4kalTEv"
      },
      "outputs": [],
      "source": [
        "import pandas as pd\n",
        "df1 = pd.read_excel(\"/content/CE_18.06.13.44processed_data.xlsx\")\n",
        "df1.head(5)"
      ]
    },
    {
      "cell_type": "code",
      "execution_count": null,
      "metadata": {
        "id": "QNN7AzAelV7Z"
      },
      "outputs": [],
      "source": [
        "df1['Label'].replace('-','2', inplace = True)\n",
        "df1 = df1[~df1['Label'].isnull()] # checking for null\n",
        "df1['Label'].dtype"
      ]
    },
    {
      "cell_type": "code",
      "execution_count": null,
      "metadata": {
        "id": "-TOOjAMolaHp"
      },
      "outputs": [],
      "source": [
        "def to_skill(label):\n",
        "    skill = int(label)\n",
        "    if skill == 1:\n",
        "        return 1\n",
        "    elif skill == 0:\n",
        "        return 0\n",
        "\n",
        "df1['Label'] = df1.Label.apply(to_skill)\n",
        "df1 = df1.dropna()"
      ]
    },
    {
      "cell_type": "code",
      "execution_count": null,
      "metadata": {
        "id": "mwEI7mVqlbyj"
      },
      "outputs": [],
      "source": [
        "df1.rename(columns = {'Masked Sentence':'text','Label':'label'}, inplace = True) # renaming it"
      ]
    },
    {
      "cell_type": "code",
      "execution_count": null,
      "metadata": {
        "id": "0QDAGXBzlke-"
      },
      "outputs": [],
      "source": [
        "df_train = df1.iloc[:2512] # splitting the dataframe rowwise with first 50% of the data\n",
        "df_train_pd_whole = df_train.iloc[:,1:3]# splitting the training data columnwise and taking only text and label columns\n",
        "train_dataset = Dataset.from_dict(df_train_pd_whole) # converting the dataframe into datasets.arrow_dataset.Dataset\n",
        "\n",
        "df_val = df1.iloc[2512:3767] #spliting data row-wise 25% of the data for validation set\n",
        "df_val_pd_whole = df_val.iloc[:,1:3]# spliting the valdation dataset columnwise only to take text and the label\n",
        "validation_dataset = Dataset.from_dict(df_val_pd_whole) # converting the dataframe into datasets.arrow_dataset.Dataset\n",
        "\n",
        "df_test = df1.iloc[3767:] #spliting data row-wise 25% of the data for test set\n",
        "df_test_pd_whole = df_test.iloc[:,1:3]# spliting the test dataset columnwise only to take text and the label\n",
        "test_dataset = Dataset.from_dict(df_val_pd_whole) # converting the dataframe into datasets.arrow_dataset.Dataset\n",
        "\n",
        "#converting datasets.arrow_dataset.Dataset into datasets.dataset_dict.DatasetDict'\n",
        "final_dataset_dict = datasets.DatasetDict({\"train\":train_dataset,\"test\":test_dataset, \"validation\":validation_dataset})\n",
        "final_dataset_dict"
      ]
    },
    {
      "cell_type": "code",
      "execution_count": null,
      "metadata": {
        "id": "wAGnU78TlmNn"
      },
      "outputs": [],
      "source": [
        "train_final_dataset_dict = final_dataset_dict[\"train\"]"
      ]
    },
    {
      "cell_type": "code",
      "execution_count": null,
      "metadata": {
        "id": "ulL1WKH8lpcO"
      },
      "outputs": [],
      "source": [
        "model_CEl = AutoModelForSequenceClassification.from_pretrained(\"deepset/gbert-large\", num_labels=2, ignore_mismatched_sizes=True).to(torch.device('cuda'))\n",
        "model_CEl.load_state_dict(torch.load('/content/gdrive/MyDrive/Thesis/Model/FT_CE_EB_GBERTLarge.pth'))"
      ]
    },
    {
      "cell_type": "code",
      "execution_count": null,
      "metadata": {
        "id": "6Awa2Wlxltc-"
      },
      "outputs": [],
      "source": [
        "tokenizer = AutoTokenizer.from_pretrained('deepset/gbert-large', truncation=True, padding=True, max_length=512)"
      ]
    },
    {
      "cell_type": "code",
      "execution_count": null,
      "metadata": {
        "id": "VCWDBnljlt5b"
      },
      "outputs": [],
      "source": [
        "def f(x):\n",
        "    encodings = [tokenizer.encode_plus(v, padding=\"max_length\", max_length=512, truncation=True, return_tensors=\"pt\") for v in x]\n",
        "    input_ids = torch.cat([e['input_ids'] for e in encodings], dim=0).cuda()\n",
        "    attention_mask = torch.cat([e['attention_mask'] for e in encodings], dim=0).cuda()\n",
        "\n",
        "    tv = torch.tensor(input_ids).cuda()\n",
        "    outputs = model_CEl(tv, attention_mask=attention_mask)[0].detach().cpu().numpy()\n",
        "    scores = (np.exp(outputs).T / np.exp(outputs).sum(-1)).T\n",
        "    val = sp.special.logit(scores[:, 1])  # use one vs rest logit units\n",
        "    return val"
      ]
    },
    {
      "cell_type": "code",
      "execution_count": null,
      "metadata": {
        "id": "2iqABYPolwJJ"
      },
      "outputs": [],
      "source": [
        "# build an explainer using a token masker\n",
        "explainer = shap.Explainer(f, tokenizer)"
      ]
    },
    {
      "cell_type": "code",
      "execution_count": null,
      "metadata": {
        "id": "3fJvJbhXlxb-"
      },
      "outputs": [],
      "source": [
        "train_final_dataset_dict[:50]"
      ]
    },
    {
      "cell_type": "code",
      "execution_count": null,
      "metadata": {
        "id": "Th6S_uVxlz91"
      },
      "outputs": [],
      "source": [
        "shap_values = explainer(train_final_dataset_dict[:2000], fixed_context=1, batch_size=2)"
      ]
    },
    {
      "cell_type": "markdown",
      "metadata": {
        "id": "D8wVVIscmQJR"
      },
      "source": [
        "##GLobal positive"
      ]
    },
    {
      "cell_type": "code",
      "execution_count": null,
      "metadata": {
        "id": "jsxfjKgymSRn"
      },
      "outputs": [],
      "source": [
        "import numpy as np\n",
        "import matplotlib.pyplot as plt\n",
        "\n",
        "s_value = shap_values.values\n",
        "d_value = shap_values.data\n",
        "\n",
        "# selecing the features from the shap_values\n",
        "feature_Names = [list(data) for data in d_value]\n",
        "\n",
        "# Flatten SHAP values and feature names\n",
        "flattened_s_value = []\n",
        "flattened_feature = []\n",
        "\n",
        "for shap_vals, feat_names in zip(s_value, feature_Names):\n",
        "    flattened_s_value.extend(shap_vals)\n",
        "    flattened_feature.extend(feat_names)\n",
        "\n",
        "# storing the highest shap value for each unique feature\n",
        "pos_feature_shap_dict = {}\n",
        "seen_features = set()\n",
        "\n",
        "for feature, s_value in zip(flattened_feature, flattened_s_value):\n",
        "    if feature:  #chekcing for blank features\n",
        "        if feature in seen_features:\n",
        "            continue  # skipping the feaures if it is already there to have a unique feature set\n",
        "        seen_features.add(feature)\n",
        "        if s_value > 0:\n",
        "            if feature in pos_feature_shap_dict:\n",
        "                pos_feature_shap_dict[feature] = max(pos_feature_shap_dict[feature], s_value)\n",
        "            else:\n",
        "                pos_feature_shap_dict[feature] = s_value\n",
        "\n",
        "# sorting features with max shap value in descening order\n",
        "sorted_pos_f = sorted(pos_feature_shap_dict.items(), key=lambda x: x[1], reverse=True)\n",
        "\n",
        "# function for plotting different number of features\n",
        "def plotting_top_pos_f(n):\n",
        "    top_n_pos_f = sorted_pos_f[:n]\n",
        "    top_n_pos_fnames = [feature for feature, value in top_n_pos_f]\n",
        "    top_n_pos_s_values = [value for feature, value in top_n_positive_features]\n",
        "\n",
        "    plt.figure(figsize=(12, 8))\n",
        "    plt.bar(top_n_pos_fnames, top_n_pos_s_values, color='#ff0052')\n",
        "    plt.xticks(rotation=45, ha='right')\n",
        "    plt.ylabel('Maximum SHAP Value (Positive Contributions)')\n",
        "    plt.xlabel('Features')\n",
        "    plt.title(f'Top {n} Unique Features Contributing to Positive Class')\n",
        "    plt.show()\n",
        "\n",
        "# Top 30\n",
        "plotting_top_pos_f(30)\n"
      ]
    },
    {
      "cell_type": "markdown",
      "metadata": {
        "id": "dCxdUuaWwRTB"
      },
      "source": [
        "##global negative"
      ]
    },
    {
      "cell_type": "code",
      "execution_count": null,
      "metadata": {
        "id": "H6RoRDXqwStV"
      },
      "outputs": [],
      "source": [
        "import numpy as np\n",
        "import matplotlib.pyplot as plt\n",
        "\n",
        "\n",
        "s_value = shap_values.values\n",
        "d_value = shap_values.data\n",
        "\n",
        "# selecing the features from the shap_values\n",
        "feature_Names = [list(data) for data in d_value]\n",
        "\n",
        "# Flattening SHAP values and feature names\n",
        "flattened_s_value = []\n",
        "flattened_feature = []\n",
        "\n",
        "for shap_vals, feat_names in zip(s_value, feature_Names):\n",
        "    flattened_s_value.extend(shap_vals)\n",
        "    flattened_feature.extend(feat_names)\n",
        "\n",
        "# storing the negative shap value for each unique feature\n",
        "neg_feature_shap_dict = {}\n",
        "seen_features = set()\n",
        "\n",
        "for feature, sv in zip(flattened_feature, flattened_s_value):\n",
        "    if feature:  #chekcing for blank features\n",
        "        if feature in seen_features:\n",
        "            continue  # skipping the feaures if it is already there to have a unique feature set\n",
        "        seen_features.add(feature)\n",
        "        if sv < 0:\n",
        "            if feature in neg_feature_shap_dict:\n",
        "                neg_feature_shap_dict[feature] = min(neg_feature_shap_dict[feature], sv) # because we wanted to check the minimun negative features to compare with the positive ones\n",
        "            else:\n",
        "                neg_feature_shap_dict[feature] = sv\n",
        "\n",
        "# sorting features with min shap value\n",
        "sorted_neg_features = sorted(neg_feature_shap_dict.items(), key=lambda x: x[1])\n",
        "\n",
        "# selecting the bottom 30 unique features contributing to the negative class\n",
        "top_30 = sorted_neg_features[:30]\n",
        "top_30_neg_f_names = [feature for feature, value in top_30]\n",
        "top_30_neg_sv = [value for feature, value in top_30]\n",
        "\n",
        "# plotting the featurs\n",
        "color_blue = '#1e88e5'\n",
        "plt.figure(figsize=(12, 8))\n",
        "plt.bar(top_30_neg_f_names, top_30_neg_sv, color=color_blue)\n",
        "plt.xticks(rotation=45, ha='right')\n",
        "plt.ylabel('Minimum SHAP Value (Negative Contributions)')\n",
        "plt.xlabel('Features')\n",
        "plt.title('Top 30 Unique Features Contributing to Negative Class')\n",
        "plt.show()"
      ]
    },
    {
      "cell_type": "markdown",
      "metadata": {
        "id": "r-OalT2ow16S"
      },
      "source": [
        "Local Explanations\n",
        "we can put the specific response index number for the following text plot, force plot and waterfall plot\n"
      ]
    },
    {
      "cell_type": "code",
      "execution_count": null,
      "metadata": {
        "id": "6zSr_xpHw9Xf"
      },
      "outputs": [],
      "source": [
        "shap.plots.text(shap_values[28])"
      ]
    },
    {
      "cell_type": "code",
      "execution_count": null,
      "metadata": {
        "id": "bjZGQZq1w6Sl"
      },
      "outputs": [],
      "source": [
        "shap.initjs()\n",
        "shap.force_plot(shap_values[28].base_values, shap_values[28].values, shap_values[28].data)"
      ]
    },
    {
      "cell_type": "code",
      "execution_count": null,
      "metadata": {
        "id": "GVnQ04tFw2iz"
      },
      "outputs": [],
      "source": [
        "shap.plots.waterfall(shap_values[28])"
      ]
    }
  ],
  "metadata": {
    "colab": {
      "provenance": []
    },
    "kernelspec": {
      "display_name": "Python 3",
      "name": "python3"
    },
    "language_info": {
      "name": "python"
    }
  },
  "nbformat": 4,
  "nbformat_minor": 0
}
