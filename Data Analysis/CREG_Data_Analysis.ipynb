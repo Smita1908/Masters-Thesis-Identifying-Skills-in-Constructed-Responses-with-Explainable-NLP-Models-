{
  "cells": [
    {
      "cell_type": "markdown",
      "metadata": {},
      "source": [
        "Reference: https://matplotlib.org/stable/api/_as_gen/matplotlib.pyplot.bar.html"
      ]
    },
    {
      "cell_type": "code",
      "execution_count": null,
      "metadata": {
        "id": "3e_qfY8TJA8F"
      },
      "outputs": [],
      "source": [
        "import matplotlib.pyplot as plt"
      ]
    },
    {
      "cell_type": "code",
      "execution_count": null,
      "metadata": {
        "id": "opA2lld6n1fK"
      },
      "outputs": [],
      "source": [
        "!pip install datasets"
      ]
    },
    {
      "cell_type": "markdown",
      "metadata": {
        "id": "_I5smovEKCa_"
      },
      "source": [
        "## Summary statistics for 2class"
      ]
    },
    {
      "cell_type": "code",
      "execution_count": null,
      "metadata": {
        "id": "z7L_whennrxn"
      },
      "outputs": [],
      "source": [
        "import pandas as pd"
      ]
    },
    {
      "cell_type": "code",
      "execution_count": null,
      "metadata": {
        "id": "2eibI8pXVPWI"
      },
      "outputs": [],
      "source": [
        "!pip install bs4 lxml"
      ]
    },
    {
      "cell_type": "code",
      "execution_count": null,
      "metadata": {
        "id": "4pIdba1NVRS4"
      },
      "outputs": [],
      "source": [
        "#importing BeautifulSoup\n",
        "from bs4 import BeautifulSoup as bs"
      ]
    },
    {
      "cell_type": "code",
      "execution_count": null,
      "metadata": {
        "id": "n41u6yvTVUSL"
      },
      "outputs": [],
      "source": [
        "content = []\n",
        "\n",
        "#loading data\n",
        "with open(\"/content/creg-tue-control-group.xml\", \"r\") as file:\n",
        "  content = file.readlines()\n",
        "content = \"\".join(content)\n",
        "bs_content = bs(content, \"xml\")"
      ]
    },
    {
      "cell_type": "code",
      "execution_count": null,
      "metadata": {
        "id": "fp7jj2lJVkSn"
      },
      "outputs": [],
      "source": [
        "student_ids = []\n",
        "answer_texts = []\n",
        "question_ids = []\n",
        "binary_values = []"
      ]
    },
    {
      "cell_type": "code",
      "execution_count": null,
      "metadata": {
        "id": "yKuCQnXeVm-z"
      },
      "outputs": [],
      "source": [
        "student_answers = bs_content.find_all('StudentAnswer')\n",
        "for s_ans in student_answers:\n",
        "    student_id = s_ans['student_id']\n",
        "    q_id = s_ans['question_id']\n",
        "    answer = s_ans.find('answerText').text\n",
        "    diagnoses = s_ans.find_all('diagnosis')\n",
        "    for diagnosis in diagnoses:\n",
        "      binary_value = diagnosis.get('binary', '')\n",
        "\n",
        "      student_ids.append(student_id)\n",
        "      question_ids.append(q_id)\n",
        "      answer_texts.append(answer)\n",
        "      binary_values.append(binary_value)"
      ]
    },
    {
      "cell_type": "code",
      "execution_count": null,
      "metadata": {
        "id": "BN8_ZjWOVp8u"
      },
      "outputs": [],
      "source": [
        "df = pd.DataFrame({\n",
        "    'Student_ID': student_ids,\n",
        "    'Question_ID': question_ids,\n",
        "    'Answer_Text': answer_texts,\n",
        "    'Binary_Value': binary_values\n",
        "})"
      ]
    },
    {
      "cell_type": "code",
      "execution_count": null,
      "metadata": {
        "id": "te0QPcnDVuOj"
      },
      "outputs": [],
      "source": [
        "df.head(5)"
      ]
    },
    {
      "cell_type": "code",
      "execution_count": null,
      "metadata": {
        "id": "F1WRNSlram2-"
      },
      "outputs": [],
      "source": [
        "#fuction to assign anything else apart from the 0 and 1 as 2\n",
        "def to_skill(label):\n",
        "  skill = str(label).strip().lower()\n",
        "  if skill == \"true\":\n",
        "    return 1\n",
        "  elif skill == \"false\":\n",
        "    return 0\n",
        "  else:\n",
        "    return 2"
      ]
    },
    {
      "cell_type": "code",
      "execution_count": null,
      "metadata": {
        "id": "HQWE-9tlaphh"
      },
      "outputs": [],
      "source": [
        "df['Binary_value'] = df.Binary_Value.apply(to_skill)"
      ]
    },
    {
      "cell_type": "code",
      "execution_count": null,
      "metadata": {
        "id": "ELojsPFBaxz8"
      },
      "outputs": [],
      "source": [
        "df = df.dropna()"
      ]
    },
    {
      "cell_type": "code",
      "execution_count": null,
      "metadata": {
        "id": "2DTu1LGrazZA"
      },
      "outputs": [],
      "source": [
        "df['Binary_value'] = df['Binary_value'].astype(int)\n",
        "df['Binary_value'].unique()"
      ]
    },
    {
      "cell_type": "code",
      "execution_count": null,
      "metadata": {
        "id": "REl1zYXAa3HW"
      },
      "outputs": [],
      "source": [
        "#seceting the rows with label value 2 and dropping them\n",
        "indices = df[df['Binary_value'] == 2].index\n",
        "\n",
        "df = df.drop(index=indices)\n",
        "\n",
        "print(df)"
      ]
    },
    {
      "cell_type": "code",
      "execution_count": null,
      "metadata": {
        "id": "aNiIapb0Fzy6"
      },
      "outputs": [],
      "source": [
        "df.head(5)"
      ]
    },
    {
      "cell_type": "code",
      "execution_count": null,
      "metadata": {
        "id": "U5HWVMomQ2Gp"
      },
      "outputs": [],
      "source": [
        "# noof unique sudents\n",
        "unique_s = df['Student_ID'].nunique()"
      ]
    },
    {
      "cell_type": "code",
      "execution_count": null,
      "metadata": {
        "id": "EzZto_drQ398"
      },
      "outputs": [],
      "source": [
        "# average no of answer per student\n",
        "ans_per_student= df.groupby('Student_ID')['Answer_Text'].count()\n",
        "avg_ans_per_student = ans_per_student.mean()"
      ]
    },
    {
      "cell_type": "code",
      "execution_count": null,
      "metadata": {
        "id": "HGK8aT69ZP6w"
      },
      "outputs": [],
      "source": [
        "# average no of word per response\n",
        "df['wc'] = df['Answer_Text'].apply(lambda x: len(x.split()))\n",
        "avg_words_per_response = df['wc'].mean()"
      ]
    },
    {
      "cell_type": "code",
      "execution_count": null,
      "metadata": {
        "collapsed": true,
        "id": "CQ5eV78wdndw"
      },
      "outputs": [],
      "source": [
        "binary_label = df['Binary_Value'].value_counts()"
      ]
    },
    {
      "cell_type": "code",
      "execution_count": null,
      "metadata": {
        "id": "cd41iSKZagmT"
      },
      "outputs": [],
      "source": [
        "import numpy as np\n",
        "import matplotlib.pyplot as plt\n",
        "\n",
        "\n",
        "skills = ['2-Class setup']\n",
        "label_0 = [6168]\n",
        "label_1 = [356]\n",
        "\n",
        "#two plot to one plot\n",
        "x = np.arange(len(skills))\n",
        "w_bar= 0.35\n",
        "\n",
        "\n",
        "# barplots\n",
        "plt.bar(x - w_bar/2, label_0, w_bar, label='True', color= \"khaki\")\n",
        "plt.bar(x + w_bar/2, label_1, w_bar, label='False', color= \"Olive\")\n",
        "\n",
        "# adding the count on top\n",
        "for i in range(len(skills)):\n",
        "    plt.text(x[i] - w_bar_width/2, label_0[i] + 10, str(label_0[i]), ha='center', va='bottom')\n",
        "    plt.text(x[i] + w_bar_width/2, label_1[i] + 10, str(label_1[i]), ha='center', va='bottom')\n",
        "\n",
        "plt.ylabel('Count')\n",
        "plt.title('Label distribution of CREG-TUE Binary classifier for True and False')\n",
        "plt.xticks(x, skills)\n",
        "plt.legend()\n",
        "\n",
        "#output\n",
        "plt.savefig(\"CREG_2C_Label_Distribution.pdf\", format='pdf')\n",
        "\n",
        "plt.show()\n",
        "\n"
      ]
    },
    {
      "cell_type": "markdown",
      "metadata": {
        "id": "ttn6-7vFf4ES"
      },
      "source": [
        "## 4-class setup"
      ]
    },
    {
      "cell_type": "code",
      "execution_count": null,
      "metadata": {
        "id": "IyqpAWvKf-ru"
      },
      "outputs": [],
      "source": [
        "content = []\n",
        "with open(\"/content/creg-tue-control-group.xml\", \"r\") as file:\n",
        "\n",
        "  content = file.readlines()\n",
        "\n",
        "content = \"\".join(content)\n",
        "bs_content = bs(content, \"xml\")"
      ]
    },
    {
      "cell_type": "code",
      "execution_count": null,
      "metadata": {
        "id": "wuP1Z5FOf7Rt"
      },
      "outputs": [],
      "source": [
        "target_answer_ids = []\n",
        "target_answers = []\n",
        "student_ids = []\n",
        "question_ids = []\n",
        "student_answers = []\n",
        "fourclass_labels = []"
      ]
    },
    {
      "cell_type": "code",
      "execution_count": null,
      "metadata": {
        "id": "uOv95jgYgFTW"
      },
      "outputs": [],
      "source": [
        "# getting the required fields from the xml file\n",
        "questions = bs_content.find_all('Question')\n",
        "for question in questions:\n",
        "    target_ans_id = question.find('TargetAnswer')['id']\n",
        "    target_answer = question.find('TargetAnswer').text\n",
        "\n",
        "    s_ans_data = question.find_all('StudentAnswer')\n",
        "    for s_ans_data in s_ans_data:\n",
        "        s_id = s_ans_data['student_id']\n",
        "        q_id = s_ans_data['question_id']\n",
        "        student_ans = s_ans_data.find('answerText').text\n",
        "        diagnoses = s_ans_data.find_all('diagnosis')\n",
        "        for diagnosis in diagnoses:\n",
        "          fourclass_value = diagnosis.get('detailed', '')\n",
        "\n",
        "          student_ids.append(s_id)\n",
        "          question_ids.append(q_id)\n",
        "          student_answers.append(student_ans)\n",
        "          fourclass_labels.append(fourclass_value)\n",
        "          target_answer_ids.append(target_ans_id)\n",
        "          target_answers.append(target_answer)"
      ]
    },
    {
      "cell_type": "code",
      "execution_count": null,
      "metadata": {
        "id": "VQ22C11mgHYm"
      },
      "outputs": [],
      "source": [
        "\n",
        "df = pd.DataFrame({\n",
        "    'target_answer_id': target_answer_ids,\n",
        "    'target_answer': target_answers,\n",
        "    'student_id': student_ids,\n",
        "    'Question_ID': question_ids,\n",
        "    'student_answer': student_answers,\n",
        "    'fourclass_labels': fourclass_labels\n",
        "})"
      ]
    },
    {
      "cell_type": "code",
      "execution_count": null,
      "metadata": {
        "id": "0Ybc0EBPgJJk"
      },
      "outputs": [],
      "source": [
        "def to_skill(label):\n",
        "  skill = label\n",
        "  if skill == \"EXTRA_CONCEPT\":\n",
        "    return 3\n",
        "  elif skill == \"CORRECT\":\n",
        "    return 2\n",
        "  elif skill == \"BLEND\":\n",
        "    return 1\n",
        "  elif skill == \"MISSING_CONCEPT\":\n",
        "    return 0\n",
        "  else:\n",
        "    return 5"
      ]
    },
    {
      "cell_type": "code",
      "execution_count": null,
      "metadata": {
        "id": "JJGa8IihgK8_"
      },
      "outputs": [],
      "source": [
        "df['fourclass_labels'] = df.fourclass_labels.apply(to_skill)"
      ]
    },
    {
      "cell_type": "code",
      "execution_count": null,
      "metadata": {
        "id": "Th4QnvURgRJA"
      },
      "outputs": [],
      "source": [
        "df = df.dropna()"
      ]
    },
    {
      "cell_type": "code",
      "execution_count": null,
      "metadata": {
        "id": "ZcNL9AdggUSP"
      },
      "outputs": [],
      "source": [
        "df['fourclass_labels'] = df['fourclass_labels'].astype(int)\n",
        "df['fourclass_labels'].unique()"
      ]
    },
    {
      "cell_type": "code",
      "execution_count": null,
      "metadata": {
        "id": "YD8AA918gWHx"
      },
      "outputs": [],
      "source": [
        "# selecting the rows with value 5 to drop them\n",
        "indices = df[df['fourclass_labels'] == 5].index\n",
        "df = df.drop(index=indices)\n",
        "\n",
        "print(df)"
      ]
    },
    {
      "cell_type": "code",
      "execution_count": null,
      "metadata": {
        "id": "T8aLbS2lgYGp"
      },
      "outputs": [],
      "source": [
        "df['fourclass_labels'].unique()"
      ]
    },
    {
      "cell_type": "code",
      "execution_count": null,
      "metadata": {
        "id": "1gBDb0nXgaNE"
      },
      "outputs": [],
      "source": [
        "df['target_answer'] = df['target_answer'].str.replace('\\n', '')\n",
        "df.head(5)"
      ]
    },
    {
      "cell_type": "code",
      "execution_count": null,
      "metadata": {
        "id": "cZQrp5uKhrpu"
      },
      "outputs": [],
      "source": [
        "fourclass_labels = df['fourclass_labels'].value_counts()\n",
        "fourclass_labels"
      ]
    },
    {
      "cell_type": "code",
      "execution_count": null,
      "metadata": {
        "id": "TAmOorrRlh8F"
      },
      "outputs": [],
      "source": [
        "import numpy as np\n",
        "import matplotlib.pyplot as plt\n",
        "\n",
        "skills = ['4-Class setup']\n",
        "l_0 = [703]\n",
        "l_1 = [338]\n",
        "l_2 = [4975]\n",
        "l_3 = [500]\n",
        "\n",
        "# Create an array for the x-axis positions\n",
        "x = np.arange(len(skills))\n",
        "\n",
        "w_bar = 0.2\n",
        "\n",
        "#adding barplot\n",
        "plt.bar(x - 1.5*w_bar, l_0, w_bar, label='MISSING_CONCEPT', color=\"khaki\")\n",
        "plt.bar(x - 0.5*w_bar, l_1, w_bar, label='BLEND', color=\"gold\")\n",
        "plt.bar(x + 0.5*w_bar, l_2, w_bar, label='CORRECT', color=\"olive\")\n",
        "plt.bar(x + 1.5*w_bar, l_3, w_bar, label='EXTRA_CONCEPT', color=\"darkolivegreen\")\n",
        "\n",
        "# adding counts on top\n",
        "for i in range(len(skills)):\n",
        "    plt.text(x[i] - 1.5*w_bar, l_0[i] + 10, str(l_0[i]), ha='center', va='bottom')\n",
        "    plt.text(x[i] - 0.5*w_bar, l_1[i] + 10, str(l_1[i]), ha='center', va='bottom')\n",
        "    plt.text(x[i] + 0.5*w_bar, l_2[i] + 10, str(l_2[i]), ha='center', va='bottom')\n",
        "    plt.text(x[i] + 1.5*w_bar, l_3[i] + 10, str(l_3[i]), ha='center', va='bottom')\n",
        "\n",
        "\n",
        "plt.ylabel('Count')\n",
        "plt.title('Label distribution of CREG-TUE 4 class classifier for Missing concept, Blend, Correct, Extra concept')\n",
        "plt.xticks(x, skills)\n",
        "plt.legend()\n",
        "plt.savefig(\"CREG_4C_Label_Distribution.pdf\", format='pdf')\n",
        "plt.show()\n"
      ]
    }
  ],
  "metadata": {
    "colab": {
      "provenance": []
    },
    "kernelspec": {
      "display_name": "Python 3",
      "name": "python3"
    },
    "language_info": {
      "name": "python"
    }
  },
  "nbformat": 4,
  "nbformat_minor": 0
}
