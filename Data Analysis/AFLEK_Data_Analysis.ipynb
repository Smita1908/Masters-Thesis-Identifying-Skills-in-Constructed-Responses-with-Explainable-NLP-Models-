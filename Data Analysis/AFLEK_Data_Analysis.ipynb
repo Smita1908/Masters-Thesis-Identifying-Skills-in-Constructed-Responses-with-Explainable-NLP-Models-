{
  "nbformat": 4,
  "nbformat_minor": 0,
  "metadata": {
    "colab": {
      "provenance": []
    },
    "kernelspec": {
      "name": "python3",
      "display_name": "Python 3"
    },
    "language_info": {
      "name": "python"
    }
  },
  "cells": [
    {
      "cell_type": "markdown",
      "source": [
        "Reference: https://matplotlib.org/stable/api/_as_gen/matplotlib.pyplot.bar.html"
      ],
      "metadata": {
        "id": "aTWEILe8as0j"
      }
    },
    {
      "cell_type": "code",
      "source": [
        "import matplotlib.pyplot as plt"
      ],
      "metadata": {
        "id": "3e_qfY8TJA8F"
      },
      "execution_count": null,
      "outputs": []
    },
    {
      "cell_type": "code",
      "source": [
        "!pip install datasets"
      ],
      "metadata": {
        "id": "opA2lld6n1fK"
      },
      "execution_count": null,
      "outputs": []
    },
    {
      "cell_type": "markdown",
      "source": [
        "## Constructing Explanations"
      ],
      "metadata": {
        "id": "_I5smovEKCa_"
      }
    },
    {
      "cell_type": "code",
      "source": [
        "import pandas as pd\n",
        "#from datasets import load_dataset\n",
        "#import datasets"
      ],
      "metadata": {
        "id": "z7L_whennrxn"
      },
      "execution_count": null,
      "outputs": []
    },
    {
      "cell_type": "code",
      "execution_count": null,
      "metadata": {
        "id": "--I1_rnvnPyv"
      },
      "outputs": [],
      "source": [
        "df = pd.read_excel(\"/content/Skill_with_question_id.xlsx\")\n",
        "df.head(5)"
      ]
    },
    {
      "cell_type": "code",
      "source": [
        "df = df[['Student',\t'Solution',\t'Answer',\t'Constructing_Explanations', 'Planning_Investigations', 'Analyzing_Data']]"
      ],
      "metadata": {
        "id": "Qlatq3_Vp3pS"
      },
      "execution_count": null,
      "outputs": []
    },
    {
      "cell_type": "code",
      "source": [
        "df['Constructing_Explanations'].replace('-','2', inplace = True)\n",
        "df = df[~df['Constructing_Explanations'].isnull()]\n",
        "df = df[df['Constructing_Explanations'].str.isnumeric()]"
      ],
      "metadata": {
        "id": "aDPqQrFpKtVG"
      },
      "execution_count": null,
      "outputs": []
    },
    {
      "cell_type": "code",
      "source": [
        "def to_skill(label):\n",
        "  skill = int(label)\n",
        "  if skill == 1:\n",
        "    return 1\n",
        "  elif skill == 0:\n",
        "    return 0"
      ],
      "metadata": {
        "id": "plEw3DhRK_ra"
      },
      "execution_count": null,
      "outputs": []
    },
    {
      "cell_type": "code",
      "source": [
        "df['Constructing_Explanations'] = df.Constructing_Explanations.apply(to_skill)"
      ],
      "metadata": {
        "id": "63edbOkFLDY1"
      },
      "execution_count": null,
      "outputs": []
    },
    {
      "cell_type": "code",
      "source": [
        "df = df.dropna()"
      ],
      "metadata": {
        "id": "fIVUYSUFLH2r"
      },
      "execution_count": null,
      "outputs": []
    },
    {
      "cell_type": "code",
      "source": [
        "df.head(5)"
      ],
      "metadata": {
        "id": "FJ126RA9oBRs"
      },
      "execution_count": null,
      "outputs": []
    },
    {
      "cell_type": "code",
      "source": [
        "#no of stduent\n",
        "unique_students = df[df['Constructing_Explanations'].isin([0, 1])]['Student'].nunique()"
      ],
      "metadata": {
        "id": "nniwPYxJW1p0"
      },
      "execution_count": null,
      "outputs": []
    },
    {
      "cell_type": "code",
      "source": [
        "# ans/student\n",
        "ans_per_student = df.groupby('Student')['Answer'].count()"
      ],
      "metadata": {
        "id": "mYWo635cW_Jy"
      },
      "execution_count": null,
      "outputs": []
    },
    {
      "cell_type": "code",
      "source": [
        "#avg no of ans/student\n",
        "avg_ans_student = ans_per_student.mean()"
      ],
      "metadata": {
        "id": "zNboVN3dXGeX"
      },
      "execution_count": null,
      "outputs": []
    },
    {
      "cell_type": "code",
      "source": [
        "# avg no of word/response\n",
        "df['wc'] = df['Answer'].apply(lambda x: len(x.split()))\n",
        "avg_words_per_response = df['wc'].mean()"
      ],
      "metadata": {
        "id": "Q-de_KtVXZlM"
      },
      "execution_count": null,
      "outputs": []
    },
    {
      "cell_type": "code",
      "source": [
        "df.head(5)"
      ],
      "metadata": {
        "id": "ZLEHs2iWtaLN"
      },
      "execution_count": null,
      "outputs": []
    },
    {
      "cell_type": "markdown",
      "source": [
        "##Analyzing Data"
      ],
      "metadata": {
        "id": "Pru4qG_WOYch"
      }
    },
    {
      "cell_type": "code",
      "source": [
        "df['Analyzing_Data'].replace('-','2', inplace = True)\n",
        "df = df[~df['Analyzing_Data'].isnull()] # Analyzing_Data contained NaN\n",
        "df = df[df['Analyzing_Data'].str.isnumeric()]"
      ],
      "metadata": {
        "id": "JUpIoKA5OctG"
      },
      "execution_count": null,
      "outputs": []
    },
    {
      "cell_type": "code",
      "source": [
        "def to_skill(label):\n",
        "  #Analyzing_Data = Analyzing_Data\n",
        "  skill = int(label)\n",
        "  #while skill == '-':\n",
        "    #continue\n",
        "  if skill == 1:\n",
        "    return 1\n",
        "  elif skill == 0:\n",
        "    return 0"
      ],
      "metadata": {
        "id": "0aB7HYqMOi5R"
      },
      "execution_count": null,
      "outputs": []
    },
    {
      "cell_type": "code",
      "source": [
        "df['Analyzing_Data'] = df.Analyzing_Data.apply(to_skill)"
      ],
      "metadata": {
        "id": "YtjeBIDyOnq9"
      },
      "execution_count": null,
      "outputs": []
    },
    {
      "cell_type": "code",
      "source": [
        "df = df.dropna()"
      ],
      "metadata": {
        "id": "cFEvcXdVOqr5"
      },
      "execution_count": null,
      "outputs": []
    },
    {
      "cell_type": "code",
      "source": [
        "#no of stduent\n",
        "unique_students = df[df['Analyzing_Data'].isin([0, 1])]['Student'].nunique()"
      ],
      "metadata": {
        "id": "ZjjYsQYwX3m3"
      },
      "execution_count": null,
      "outputs": []
    },
    {
      "cell_type": "code",
      "source": [
        "# ans/student\n",
        "ans_per_student = df.groupby('Student')['Answer'].count()"
      ],
      "metadata": {
        "id": "bLgmHABnYG52"
      },
      "execution_count": null,
      "outputs": []
    },
    {
      "cell_type": "code",
      "source": [
        "#avg no of ans/student\n",
        "avg_ans_student = ans_per_student.mean()"
      ],
      "metadata": {
        "id": "lwGqiAc2YKcI"
      },
      "execution_count": null,
      "outputs": []
    },
    {
      "cell_type": "code",
      "source": [
        "# avg no of word/response\n",
        "df['wc'] = df['Answer'].apply(lambda x: len(x.split()))\n",
        "avg_words_per_response = df['wc'].mean()"
      ],
      "metadata": {
        "id": "dFqxmnGAYOuu"
      },
      "execution_count": null,
      "outputs": []
    },
    {
      "cell_type": "markdown",
      "source": [
        "Planning Investigations"
      ],
      "metadata": {
        "id": "TsoWdDRNOar9"
      }
    },
    {
      "cell_type": "code",
      "source": [
        "df['Planning_Investigations'].replace('-','2', inplace = True)\n",
        "df = df[~df['Planning_Investigations'].isnull()] # Analyzing_Data contained NaN\n",
        "df = df[df['Planning_Investigations'].str.isnumeric()]"
      ],
      "metadata": {
        "id": "DBxsS-IhOdGj"
      },
      "execution_count": null,
      "outputs": []
    },
    {
      "cell_type": "code",
      "source": [
        "def to_skill(label):\n",
        "  #Analyzing_Data = Analyzing_Data\n",
        "  skill = int(label)\n",
        "  #while skill == '-':\n",
        "    #continue\n",
        "  if skill == 1:\n",
        "    return 1\n",
        "  elif skill == 0:\n",
        "    return 0"
      ],
      "metadata": {
        "id": "JGuxCMdoOjnW"
      },
      "execution_count": null,
      "outputs": []
    },
    {
      "cell_type": "code",
      "source": [
        "df['Planning_Investigations'] = df.Planning_Investigations.apply(to_skill)"
      ],
      "metadata": {
        "id": "axjTG6LCOmn5"
      },
      "execution_count": null,
      "outputs": []
    },
    {
      "cell_type": "code",
      "source": [
        "df = df.dropna()"
      ],
      "metadata": {
        "id": "wwVODhF3Orty"
      },
      "execution_count": null,
      "outputs": []
    },
    {
      "cell_type": "code",
      "source": [
        "#no of stduent\n",
        "unique_students = df[df['Planning_Investigations'].isin([0, 1])]['Student'].nunique()"
      ],
      "metadata": {
        "id": "BY5UMYYgX40f"
      },
      "execution_count": null,
      "outputs": []
    },
    {
      "cell_type": "code",
      "source": [
        "# ans/student\n",
        "ans_per_student = df.groupby('Student')['Answer'].count()"
      ],
      "metadata": {
        "id": "8U6SdsrwYH-g"
      },
      "execution_count": null,
      "outputs": []
    },
    {
      "cell_type": "code",
      "source": [
        "#avg no of ans/student\n",
        "avg_ans_student = ans_per_student.mean()"
      ],
      "metadata": {
        "id": "zN4JxnEmYMCG"
      },
      "execution_count": null,
      "outputs": []
    },
    {
      "cell_type": "code",
      "source": [
        "# avg no of word/response\n",
        "df['wc'] = df['Answer'].apply(lambda x: len(x.split()))\n",
        "avg_words_per_response = df['wc'].mean()"
      ],
      "metadata": {
        "id": "2aBTcYHSYP6w"
      },
      "execution_count": null,
      "outputs": []
    },
    {
      "cell_type": "markdown",
      "source": [
        "#Total counts"
      ],
      "metadata": {
        "id": "yIY7hwxeSUux"
      }
    },
    {
      "cell_type": "code",
      "source": [
        "#total no of stduent\n",
        "unique_students =df.dropna(subset=['Constructing_Explanations', 'Planning_Investigations', 'Analyzing_Data'])['Student'].nunique()"
      ],
      "metadata": {
        "id": "cCUyLo-SYr-j"
      },
      "execution_count": null,
      "outputs": []
    },
    {
      "cell_type": "code",
      "source": [
        "# ans/student\n",
        "ans_per_student = df.dropna(subset=['Constructing_Explanations', 'Planning_Investigations', 'Analyzing_Data']).groupby('Student')['Answer'].count()"
      ],
      "metadata": {
        "id": "lkMqLT35Yy5y"
      },
      "execution_count": null,
      "outputs": []
    },
    {
      "cell_type": "code",
      "source": [
        "#avg no of ans/student\n",
        "avg_ans_student = ans_per_student.mean()"
      ],
      "metadata": {
        "id": "ZtLJPjTsY0SK"
      },
      "execution_count": null,
      "outputs": []
    },
    {
      "cell_type": "code",
      "source": [
        "# avg no of word/response\n",
        "df['wc'] = df['Answer'].apply(lambda x: len(x.split()))\n",
        "avg_words_per_response = df['wc'].mean()"
      ],
      "metadata": {
        "id": "eqeCt-Q6Y1tI"
      },
      "execution_count": null,
      "outputs": []
    },
    {
      "cell_type": "markdown",
      "source": [
        "#plotting"
      ],
      "metadata": {
        "id": "4gvPIi77a9J4"
      }
    },
    {
      "cell_type": "code",
      "source": [
        "import numpy as np\n",
        "import matplotlib.pyplot as plt\n",
        "\n",
        "#name for the barplots\n",
        "skills = ['Constructing_Explanations', 'Analyzing_Data', 'Planning_Investigations']\n",
        "l_0 = [1082, 203, 57]\n",
        "l_1 = [2950, 769, 98]\n",
        "x = np.arange(len(skills))\n",
        "w_bar = 0.35\n",
        "\n",
        "#barpot\n",
        "plt.bar(x - w_bar/2, l_0, w_bar, label='Label 0', color= \"bisque\")\n",
        "\n",
        "plt.bar(x + w_bar/2, l_1, w_bar, label='Label 1', color= \"peru\")\n",
        "\n",
        "# count on top\n",
        "for i in range(len(skills)):\n",
        "    plt.text(x[i] - w_bar/2, l_0[i] + 10, str(l_0[i]), ha='center', va='bottom')\n",
        "    plt.text(x[i] + w_bar/2, l_1[i] + 10, str(l_1[i]), ha='center', va='bottom')\n",
        "\n",
        "\n",
        "plt.xlabel('Skills')\n",
        "plt.ylabel('Count')\n",
        "plt.title('Label distribution of different skills for Label 0 and Label 1')\n",
        "plt.xticks(x, skills)\n",
        "plt.legend()\n",
        "\n",
        "# pdf\n",
        "plt.savefig(\"Label_Distribution.pdf\", format='pdf')\n",
        "\n",
        "plt.show()"
      ],
      "metadata": {
        "id": "fRLeTAM0uk41"
      },
      "execution_count": null,
      "outputs": []
    }
  ]
}